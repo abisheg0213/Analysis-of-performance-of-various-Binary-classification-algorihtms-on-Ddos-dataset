{
  "nbformat": 4,
  "nbformat_minor": 0,
  "metadata": {
    "colab": {
      "provenance": []
    },
    "kernelspec": {
      "name": "python3",
      "display_name": "Python 3"
    },
    "language_info": {
      "name": "python"
    }
  },
  "cells": [
    {
      "cell_type": "code",
      "source": [
        "import pandas as pd\n",
        "import numpy as np\n",
        "import matplotlib.pyplot as plt\n",
        "import seaborn as sns"
      ],
      "metadata": {
        "id": "ilcDBcLNaKkW"
      },
      "execution_count": null,
      "outputs": []
    },
    {
      "cell_type": "code",
      "source": [
        "d=pd.read_csv('ddos.csv')\n",
        "d.head()"
      ],
      "metadata": {
        "id": "P8v0q6u4iLiR",
        "colab": {
          "base_uri": "https://localhost:8080/",
          "height": 351
        },
        "outputId": "cba2634a-3ff7-49cc-de8c-17c57778eb72"
      },
      "execution_count": null,
      "outputs": [
        {
          "output_type": "execute_result",
          "data": {
            "text/plain": [
              "   Unnamed: 0   Protocol   Flow Duration   Total Fwd Packets  \\\n",
              "0           0         17          985356                  20   \n",
              "1           1         17               1                   2   \n",
              "2           2         17               1                   2   \n",
              "3           3         17               1                   2   \n",
              "4           4          6       110492576                  16   \n",
              "\n",
              "    Total Backward Packets  Total Length of Fwd Packets  \\\n",
              "0                        0                         7242   \n",
              "1                        0                          802   \n",
              "2                        0                         2944   \n",
              "3                        0                          458   \n",
              "4                        2                            0   \n",
              "\n",
              "    Total Length of Bwd Packets   Fwd Packet Length Max  \\\n",
              "0                             0                     401   \n",
              "1                             0                     401   \n",
              "2                             0                    1472   \n",
              "3                             0                     229   \n",
              "4                             0                       0   \n",
              "\n",
              "    Fwd Packet Length Min   Fwd Packet Length Mean  ...  Active Mean  \\\n",
              "0                     321                    362.1  ...     0.000000   \n",
              "1                     401                    401.0  ...     0.000000   \n",
              "2                    1472                   1472.0  ...     0.000000   \n",
              "3                     229                    229.0  ...     0.000000   \n",
              "4                       0                      0.0  ...    29.333333   \n",
              "\n",
              "    Active Std   Active Max   Active Min    Idle Mean     Idle Std   Idle Max  \\\n",
              "0     0.000000            0            0         0.00        0.000          0   \n",
              "1     0.000000            0            0         0.00        0.000          0   \n",
              "2     0.000000            0            0         0.00        0.000          0   \n",
              "3     0.000000            0            0         0.00        0.000          0   \n",
              "4    50.042648          124            1  15784628.57  7968096.509   32064666   \n",
              "\n",
              "    Idle Min   Inbound  Label  \n",
              "0          0         1      1  \n",
              "1          0         1      1  \n",
              "2          0         1      0  \n",
              "3          0         1      0  \n",
              "4    6533626         1      1  \n",
              "\n",
              "[5 rows x 69 columns]"
            ],
            "text/html": [
              "\n",
              "  <div id=\"df-83be4a41-ace2-427a-bbbd-e5a9b8894e76\">\n",
              "    <div class=\"colab-df-container\">\n",
              "      <div>\n",
              "<style scoped>\n",
              "    .dataframe tbody tr th:only-of-type {\n",
              "        vertical-align: middle;\n",
              "    }\n",
              "\n",
              "    .dataframe tbody tr th {\n",
              "        vertical-align: top;\n",
              "    }\n",
              "\n",
              "    .dataframe thead th {\n",
              "        text-align: right;\n",
              "    }\n",
              "</style>\n",
              "<table border=\"1\" class=\"dataframe\">\n",
              "  <thead>\n",
              "    <tr style=\"text-align: right;\">\n",
              "      <th></th>\n",
              "      <th>Unnamed: 0</th>\n",
              "      <th>Protocol</th>\n",
              "      <th>Flow Duration</th>\n",
              "      <th>Total Fwd Packets</th>\n",
              "      <th>Total Backward Packets</th>\n",
              "      <th>Total Length of Fwd Packets</th>\n",
              "      <th>Total Length of Bwd Packets</th>\n",
              "      <th>Fwd Packet Length Max</th>\n",
              "      <th>Fwd Packet Length Min</th>\n",
              "      <th>Fwd Packet Length Mean</th>\n",
              "      <th>...</th>\n",
              "      <th>Active Mean</th>\n",
              "      <th>Active Std</th>\n",
              "      <th>Active Max</th>\n",
              "      <th>Active Min</th>\n",
              "      <th>Idle Mean</th>\n",
              "      <th>Idle Std</th>\n",
              "      <th>Idle Max</th>\n",
              "      <th>Idle Min</th>\n",
              "      <th>Inbound</th>\n",
              "      <th>Label</th>\n",
              "    </tr>\n",
              "  </thead>\n",
              "  <tbody>\n",
              "    <tr>\n",
              "      <th>0</th>\n",
              "      <td>0</td>\n",
              "      <td>17</td>\n",
              "      <td>985356</td>\n",
              "      <td>20</td>\n",
              "      <td>0</td>\n",
              "      <td>7242</td>\n",
              "      <td>0</td>\n",
              "      <td>401</td>\n",
              "      <td>321</td>\n",
              "      <td>362.1</td>\n",
              "      <td>...</td>\n",
              "      <td>0.000000</td>\n",
              "      <td>0.000000</td>\n",
              "      <td>0</td>\n",
              "      <td>0</td>\n",
              "      <td>0.00</td>\n",
              "      <td>0.000</td>\n",
              "      <td>0</td>\n",
              "      <td>0</td>\n",
              "      <td>1</td>\n",
              "      <td>1</td>\n",
              "    </tr>\n",
              "    <tr>\n",
              "      <th>1</th>\n",
              "      <td>1</td>\n",
              "      <td>17</td>\n",
              "      <td>1</td>\n",
              "      <td>2</td>\n",
              "      <td>0</td>\n",
              "      <td>802</td>\n",
              "      <td>0</td>\n",
              "      <td>401</td>\n",
              "      <td>401</td>\n",
              "      <td>401.0</td>\n",
              "      <td>...</td>\n",
              "      <td>0.000000</td>\n",
              "      <td>0.000000</td>\n",
              "      <td>0</td>\n",
              "      <td>0</td>\n",
              "      <td>0.00</td>\n",
              "      <td>0.000</td>\n",
              "      <td>0</td>\n",
              "      <td>0</td>\n",
              "      <td>1</td>\n",
              "      <td>1</td>\n",
              "    </tr>\n",
              "    <tr>\n",
              "      <th>2</th>\n",
              "      <td>2</td>\n",
              "      <td>17</td>\n",
              "      <td>1</td>\n",
              "      <td>2</td>\n",
              "      <td>0</td>\n",
              "      <td>2944</td>\n",
              "      <td>0</td>\n",
              "      <td>1472</td>\n",
              "      <td>1472</td>\n",
              "      <td>1472.0</td>\n",
              "      <td>...</td>\n",
              "      <td>0.000000</td>\n",
              "      <td>0.000000</td>\n",
              "      <td>0</td>\n",
              "      <td>0</td>\n",
              "      <td>0.00</td>\n",
              "      <td>0.000</td>\n",
              "      <td>0</td>\n",
              "      <td>0</td>\n",
              "      <td>1</td>\n",
              "      <td>0</td>\n",
              "    </tr>\n",
              "    <tr>\n",
              "      <th>3</th>\n",
              "      <td>3</td>\n",
              "      <td>17</td>\n",
              "      <td>1</td>\n",
              "      <td>2</td>\n",
              "      <td>0</td>\n",
              "      <td>458</td>\n",
              "      <td>0</td>\n",
              "      <td>229</td>\n",
              "      <td>229</td>\n",
              "      <td>229.0</td>\n",
              "      <td>...</td>\n",
              "      <td>0.000000</td>\n",
              "      <td>0.000000</td>\n",
              "      <td>0</td>\n",
              "      <td>0</td>\n",
              "      <td>0.00</td>\n",
              "      <td>0.000</td>\n",
              "      <td>0</td>\n",
              "      <td>0</td>\n",
              "      <td>1</td>\n",
              "      <td>0</td>\n",
              "    </tr>\n",
              "    <tr>\n",
              "      <th>4</th>\n",
              "      <td>4</td>\n",
              "      <td>6</td>\n",
              "      <td>110492576</td>\n",
              "      <td>16</td>\n",
              "      <td>2</td>\n",
              "      <td>0</td>\n",
              "      <td>0</td>\n",
              "      <td>0</td>\n",
              "      <td>0</td>\n",
              "      <td>0.0</td>\n",
              "      <td>...</td>\n",
              "      <td>29.333333</td>\n",
              "      <td>50.042648</td>\n",
              "      <td>124</td>\n",
              "      <td>1</td>\n",
              "      <td>15784628.57</td>\n",
              "      <td>7968096.509</td>\n",
              "      <td>32064666</td>\n",
              "      <td>6533626</td>\n",
              "      <td>1</td>\n",
              "      <td>1</td>\n",
              "    </tr>\n",
              "  </tbody>\n",
              "</table>\n",
              "<p>5 rows × 69 columns</p>\n",
              "</div>\n",
              "      <button class=\"colab-df-convert\" onclick=\"convertToInteractive('df-83be4a41-ace2-427a-bbbd-e5a9b8894e76')\"\n",
              "              title=\"Convert this dataframe to an interactive table.\"\n",
              "              style=\"display:none;\">\n",
              "        \n",
              "  <svg xmlns=\"http://www.w3.org/2000/svg\" height=\"24px\"viewBox=\"0 0 24 24\"\n",
              "       width=\"24px\">\n",
              "    <path d=\"M0 0h24v24H0V0z\" fill=\"none\"/>\n",
              "    <path d=\"M18.56 5.44l.94 2.06.94-2.06 2.06-.94-2.06-.94-.94-2.06-.94 2.06-2.06.94zm-11 1L8.5 8.5l.94-2.06 2.06-.94-2.06-.94L8.5 2.5l-.94 2.06-2.06.94zm10 10l.94 2.06.94-2.06 2.06-.94-2.06-.94-.94-2.06-.94 2.06-2.06.94z\"/><path d=\"M17.41 7.96l-1.37-1.37c-.4-.4-.92-.59-1.43-.59-.52 0-1.04.2-1.43.59L10.3 9.45l-7.72 7.72c-.78.78-.78 2.05 0 2.83L4 21.41c.39.39.9.59 1.41.59.51 0 1.02-.2 1.41-.59l7.78-7.78 2.81-2.81c.8-.78.8-2.07 0-2.86zM5.41 20L4 18.59l7.72-7.72 1.47 1.35L5.41 20z\"/>\n",
              "  </svg>\n",
              "      </button>\n",
              "      \n",
              "  <style>\n",
              "    .colab-df-container {\n",
              "      display:flex;\n",
              "      flex-wrap:wrap;\n",
              "      gap: 12px;\n",
              "    }\n",
              "\n",
              "    .colab-df-convert {\n",
              "      background-color: #E8F0FE;\n",
              "      border: none;\n",
              "      border-radius: 50%;\n",
              "      cursor: pointer;\n",
              "      display: none;\n",
              "      fill: #1967D2;\n",
              "      height: 32px;\n",
              "      padding: 0 0 0 0;\n",
              "      width: 32px;\n",
              "    }\n",
              "\n",
              "    .colab-df-convert:hover {\n",
              "      background-color: #E2EBFA;\n",
              "      box-shadow: 0px 1px 2px rgba(60, 64, 67, 0.3), 0px 1px 3px 1px rgba(60, 64, 67, 0.15);\n",
              "      fill: #174EA6;\n",
              "    }\n",
              "\n",
              "    [theme=dark] .colab-df-convert {\n",
              "      background-color: #3B4455;\n",
              "      fill: #D2E3FC;\n",
              "    }\n",
              "\n",
              "    [theme=dark] .colab-df-convert:hover {\n",
              "      background-color: #434B5C;\n",
              "      box-shadow: 0px 1px 3px 1px rgba(0, 0, 0, 0.15);\n",
              "      filter: drop-shadow(0px 1px 2px rgba(0, 0, 0, 0.3));\n",
              "      fill: #FFFFFF;\n",
              "    }\n",
              "  </style>\n",
              "\n",
              "      <script>\n",
              "        const buttonEl =\n",
              "          document.querySelector('#df-83be4a41-ace2-427a-bbbd-e5a9b8894e76 button.colab-df-convert');\n",
              "        buttonEl.style.display =\n",
              "          google.colab.kernel.accessAllowed ? 'block' : 'none';\n",
              "\n",
              "        async function convertToInteractive(key) {\n",
              "          const element = document.querySelector('#df-83be4a41-ace2-427a-bbbd-e5a9b8894e76');\n",
              "          const dataTable =\n",
              "            await google.colab.kernel.invokeFunction('convertToInteractive',\n",
              "                                                     [key], {});\n",
              "          if (!dataTable) return;\n",
              "\n",
              "          const docLinkHtml = 'Like what you see? Visit the ' +\n",
              "            '<a target=\"_blank\" href=https://colab.research.google.com/notebooks/data_table.ipynb>data table notebook</a>'\n",
              "            + ' to learn more about interactive tables.';\n",
              "          element.innerHTML = '';\n",
              "          dataTable['output_type'] = 'display_data';\n",
              "          await google.colab.output.renderOutput(dataTable, element);\n",
              "          const docLink = document.createElement('div');\n",
              "          docLink.innerHTML = docLinkHtml;\n",
              "          element.appendChild(docLink);\n",
              "        }\n",
              "      </script>\n",
              "    </div>\n",
              "  </div>\n",
              "  "
            ]
          },
          "metadata": {},
          "execution_count": 16
        }
      ]
    },
    {
      "cell_type": "code",
      "source": [
        "d.drop(['Unnamed: 0'],axis=1,inplace=True)"
      ],
      "metadata": {
        "id": "bHwYfteliLlC"
      },
      "execution_count": null,
      "outputs": []
    },
    {
      "cell_type": "code",
      "source": [
        "x=d.iloc[:,:-1]\n",
        "y=d.iloc[:,-1]"
      ],
      "metadata": {
        "id": "Mf3GYRIqiLny"
      },
      "execution_count": null,
      "outputs": []
    },
    {
      "cell_type": "code",
      "source": [
        "y"
      ],
      "metadata": {
        "colab": {
          "base_uri": "https://localhost:8080/"
        },
        "id": "EH7ep_KciLqe",
        "outputId": "8cbe4a80-a856-4cf7-f5fc-e3e3f10c2f61"
      },
      "execution_count": null,
      "outputs": [
        {
          "output_type": "execute_result",
          "data": {
            "text/plain": [
              "0        1\n",
              "1        1\n",
              "2        0\n",
              "3        0\n",
              "4        1\n",
              "        ..\n",
              "39995    0\n",
              "39996    1\n",
              "39997    0\n",
              "39998    1\n",
              "39999    1\n",
              "Name: Label, Length: 40000, dtype: int64"
            ]
          },
          "metadata": {},
          "execution_count": 5
        }
      ]
    },
    {
      "cell_type": "code",
      "source": [
        "from sklearn.preprocessing import StandardScaler\n",
        "ss=StandardScaler()\n",
        "X=ss.fit_transform(x)"
      ],
      "metadata": {
        "id": "TlrDmnQFiLtZ"
      },
      "execution_count": null,
      "outputs": []
    },
    {
      "cell_type": "code",
      "source": [
        "from sklearn.model_selection import train_test_split\n",
        "x_train,x_test,y_train,y_test=train_test_split(X,y)"
      ],
      "metadata": {
        "id": "QCtc_fHKiLwM"
      },
      "execution_count": null,
      "outputs": []
    },
    {
      "cell_type": "code",
      "source": [
        "from sklearn.metrics import *"
      ],
      "metadata": {
        "id": "2JaUkJJPkPZS"
      },
      "execution_count": null,
      "outputs": []
    },
    {
      "cell_type": "markdown",
      "source": [
        "DecisionTreeClassifier"
      ],
      "metadata": {
        "id": "Itb83LLAlbiq"
      }
    },
    {
      "cell_type": "code",
      "source": [
        "from sklearn.tree import DecisionTreeClassifier\n",
        "d=DecisionTreeClassifier()\n",
        "d.fit(x_train,y_train)\n",
        "p=d.predict(x_test)\n",
        "print(accuracy_score(y_test,p))\n",
        "print(classification_report(y_test,p))"
      ],
      "metadata": {
        "colab": {
          "base_uri": "https://localhost:8080/"
        },
        "id": "kvFlQOSTiLzP",
        "outputId": "1344261e-c8b3-414b-bc86-da51d3d9a6f6"
      },
      "execution_count": null,
      "outputs": [
        {
          "output_type": "stream",
          "name": "stdout",
          "text": [
            "0.9454\n",
            "              precision    recall  f1-score   support\n",
            "\n",
            "           0       0.99      0.90      0.94      4996\n",
            "           1       0.91      0.99      0.95      5004\n",
            "\n",
            "    accuracy                           0.95     10000\n",
            "   macro avg       0.95      0.95      0.95     10000\n",
            "weighted avg       0.95      0.95      0.95     10000\n",
            "\n"
          ]
        }
      ]
    },
    {
      "cell_type": "markdown",
      "source": [
        "\n",
        "KNN\n",
        "\n"
      ],
      "metadata": {
        "id": "klPaoiNZledK"
      }
    },
    {
      "cell_type": "code",
      "source": [
        "from sklearn.neighbors import KNeighborsClassifier\n",
        "k_range=range(2,22)\n",
        "train=[]\n",
        "test=[]\n",
        "for i in k_range:\n",
        "  k=KNeighborsClassifier(n_neighbors=i)\n",
        "  k.fit(x_train,y_train)\n",
        "  train.append(k.score(x_train,y_train))\n",
        "  test.append(k.score(x_test,y_test))\n",
        "plt.scatter(k_range,train,color='red')\n",
        "plt.scatter(k_range,test,color='blue')"
      ],
      "metadata": {
        "id": "u_8x40pQiL17",
        "colab": {
          "base_uri": "https://localhost:8080/",
          "height": 447
        },
        "outputId": "2e3ee80d-b88e-41fd-bcd4-9b6ff240749b"
      },
      "execution_count": null,
      "outputs": [
        {
          "output_type": "execute_result",
          "data": {
            "text/plain": [
              "<matplotlib.collections.PathCollection at 0x7fdc7c2a71c0>"
            ]
          },
          "metadata": {},
          "execution_count": 17
        },
        {
          "output_type": "display_data",
          "data": {
            "text/plain": [
              "<Figure size 640x480 with 1 Axes>"
            ],
            "image/png": "[encoded data removed]"
          },
          "metadata": {}
        }
      ]
    },
    {
      "cell_type": "markdown",
      "source": [
        "Random forest"
      ],
      "metadata": {
        "id": "lgLvVl_3mVlu"
      }
    },
    {
      "cell_type": "code",
      "source": [],
      "metadata": {
        "id": "sfVP6R-byJ7V"
      },
      "execution_count": null,
      "outputs": []
    },
    {
      "cell_type": "code",
      "source": [],
      "metadata": {
        "id": "rhX1FF_lyJ-A"
      },
      "execution_count": null,
      "outputs": []
    },
    {
      "cell_type": "code",
      "source": [],
      "metadata": {
        "id": "Qy0POIPHyKBN"
      },
      "execution_count": null,
      "outputs": []
    },
    {
      "cell_type": "code",
      "source": [],
      "metadata": {
        "id": "zDQCEWKDyKEN"
      },
      "execution_count": null,
      "outputs": []
    },
    {
      "cell_type": "markdown",
      "source": [
        "MLP"
      ],
      "metadata": {
        "id": "1__g1EewnXtr"
      }
    },
    {
      "cell_type": "code",
      "source": [
        "from sklearn.neural_network import MLPClassifier\n",
        "m=MLPClassifier(hidden_layer_sizes=(15,5),random_state=5,verbose=True,learning_rate_init=0.01)\n",
        "m.fit(x_train,y_train)\n",
        "y_pred=m.predict(x_test)\n",
        "c=confusion_matrix(y_test,y_pred)\n",
        "ConfusionMatrixDisplay(confusion_matrix=c,display_labels=['True','False']).plot()"
      ],
      "metadata": {
        "id": "8uP2C3mWh_gS",
        "colab": {
          "base_uri": "https://localhost:8080/",
          "height": 1000
        },
        "outputId": "5cb9ac92-9d74-462e-faff-2cd0851e2dd9"
      },
      "execution_count": null,
      "outputs": [
        {
          "output_type": "stream",
          "name": "stdout",
          "text": [
            "Iteration 1, loss = 0.29663419\n",
            "Iteration 2, loss = 0.16074222\n",
            "Iteration 3, loss = 0.14504776\n",
            "Iteration 4, loss = 0.13860363\n",
            "Iteration 5, loss = 0.13484012\n",
            "Iteration 6, loss = 0.13168671\n",
            "Iteration 7, loss = 0.13109518\n",
            "Iteration 8, loss = 0.12858144\n",
            "Iteration 9, loss = 0.13069146\n",
            "Iteration 10, loss = 0.12794954\n",
            "Iteration 11, loss = 0.12832789\n",
            "Iteration 12, loss = 0.12662598\n",
            "Iteration 13, loss = 0.12867068\n",
            "Iteration 14, loss = 0.12502013\n",
            "Iteration 15, loss = 0.12510047\n",
            "Iteration 16, loss = 0.12374324\n",
            "Iteration 17, loss = 0.12292166\n",
            "Iteration 18, loss = 0.12266513\n",
            "Iteration 19, loss = 0.12189014\n",
            "Iteration 20, loss = 0.12466299\n",
            "Iteration 21, loss = 0.12326526\n",
            "Iteration 22, loss = 0.12142950\n",
            "Iteration 23, loss = 0.12241333\n",
            "Iteration 24, loss = 0.12378331\n",
            "Iteration 25, loss = 0.12036773\n",
            "Iteration 26, loss = 0.12363877\n",
            "Iteration 27, loss = 0.12036314\n",
            "Iteration 28, loss = 0.12135920\n",
            "Iteration 29, loss = 0.12241068\n",
            "Iteration 30, loss = 0.12029730\n",
            "Iteration 31, loss = 0.12088367\n",
            "Iteration 32, loss = 0.11831359\n",
            "Iteration 33, loss = 0.11943577\n",
            "Iteration 34, loss = 0.12208831\n",
            "Iteration 35, loss = 0.11798451\n",
            "Iteration 36, loss = 0.11949311\n",
            "Iteration 37, loss = 0.12037131\n",
            "Iteration 38, loss = 0.11760607\n",
            "Iteration 39, loss = 0.11887491\n",
            "Iteration 40, loss = 0.11887615\n",
            "Iteration 41, loss = 0.11863284\n",
            "Iteration 42, loss = 0.12332614\n",
            "Iteration 43, loss = 0.12224290\n",
            "Iteration 44, loss = 0.11947271\n",
            "Iteration 45, loss = 0.11997899\n",
            "Iteration 46, loss = 0.11877386\n",
            "Iteration 47, loss = 0.11939473\n",
            "Iteration 48, loss = 0.12043162\n",
            "Iteration 49, loss = 0.11863443\n",
            "Training loss did not improve more than tol=0.000100 for 10 consecutive epochs. Stopping.\n"
          ]
        },
        {
          "output_type": "execute_result",
          "data": {
            "text/plain": [
              "<sklearn.metrics._plot.confusion_matrix.ConfusionMatrixDisplay at 0x7fdc7d162290>"
            ]
          },
          "metadata": {},
          "execution_count": 20
        },
        {
          "output_type": "display_data",
          "data": {
            "text/plain": [
              "<Figure size 640x480 with 2 Axes>"
            ],
            "image/png": "[encoded data removed]"
          },
          "metadata": {}
        }
      ]
    },
    {
      "cell_type": "markdown",
      "source": [
        "KERAS\n"
      ],
      "metadata": {
        "id": "XgBYffYwyOXY"
      }
    },
    {
      "cell_type": "code",
      "source": [
        "from keras.models import Sequential\n",
        "from keras.layers import Dense"
      ],
      "metadata": {
        "id": "exjl4d-TyNOW"
      },
      "execution_count": null,
      "outputs": []
    },
    {
      "cell_type": "code",
      "source": [
        "model=Sequential()"
      ],
      "metadata": {
        "id": "udxXArIkyNRb"
      },
      "execution_count": null,
      "outputs": []
    },
    {
      "cell_type": "code",
      "source": [
        "X"
      ],
      "metadata": {
        "colab": {
          "base_uri": "https://localhost:8080/"
        },
        "id": "ZcUYtEKDy5Zs",
        "outputId": "d783bbfe-ca58-4812-96bd-cd30f60d0932"
      },
      "execution_count": null,
      "outputs": [
        {
          "output_type": "execute_result",
          "data": {
            "text/plain": [
              "array([[ 0.55447225, -0.23967839,  0.25678831, ..., -0.26691373,\n",
              "        -0.24973935,  0.15351757],\n",
              "       [ 0.55447225, -0.27580823, -0.20855426, ..., -0.26691373,\n",
              "        -0.24973935,  0.15351757],\n",
              "       [ 0.55447225, -0.27580823, -0.20855426, ..., -0.26691373,\n",
              "        -0.24973935,  0.15351757],\n",
              "       ...,\n",
              "       [ 0.55447225, -0.2758082 , -0.20855426, ..., -0.26691373,\n",
              "        -0.24973935,  0.15351757],\n",
              "       [-1.80056558, -0.27580823, -0.20855426, ..., -0.26691373,\n",
              "        -0.24973935,  0.15351757],\n",
              "       [ 0.55447225, -0.27580823, -0.20855426, ..., -0.26691373,\n",
              "        -0.24973935,  0.15351757]])"
            ]
          },
          "metadata": {},
          "execution_count": 23
        }
      ]
    },
    {
      "cell_type": "code",
      "source": [
        "model.add(Dense(8,input_dim=len(X[0,:]),activation='relu'))\n",
        "model.add(Dense(4,activation='relu'))\n",
        "model.add(Dense(1,activation='sigmoid'))"
      ],
      "metadata": {
        "id": "JcbLkS8iyNUQ"
      },
      "execution_count": null,
      "outputs": []
    },
    {
      "cell_type": "code",
      "source": [
        "model.compile(loss='binary_crossentropy',metrics=['accuracy'])"
      ],
      "metadata": {
        "id": "wrAblE1fyNXI"
      },
      "execution_count": null,
      "outputs": []
    },
    {
      "cell_type": "code",
      "source": [
        "model.fit(x_train,y_train,epochs=15,verbose=1)"
      ],
      "metadata": {
        "colab": {
          "base_uri": "https://localhost:8080/"
        },
        "id": "jdOL3L59yNZ4",
        "outputId": "b5ff0200-2d42-4c72-ef2e-585e35238e55"
      },
      "execution_count": null,
      "outputs": [
        {
          "output_type": "stream",
          "name": "stdout",
          "text": [
            "Epoch 1/15\n",
            "938/938 [==============================] - 2s 2ms/step - loss: 0.1919 - accuracy: 0.9003\n",
            "Epoch 2/15\n",
            "938/938 [==============================] - 1s 1ms/step - loss: 0.1919 - accuracy: 0.9003\n",
            "Epoch 3/15\n",
            "938/938 [==============================] - 1s 1ms/step - loss: 0.1921 - accuracy: 0.9006\n",
            "Epoch 4/15\n",
            "938/938 [==============================] - 1s 1ms/step - loss: 0.1921 - accuracy: 0.9010\n",
            "Epoch 5/15\n",
            "938/938 [==============================] - 1s 1ms/step - loss: 0.1924 - accuracy: 0.9009\n",
            "Epoch 6/15\n",
            "938/938 [==============================] - 1s 1ms/step - loss: 0.1929 - accuracy: 0.9010\n",
            "Epoch 7/15\n",
            "938/938 [==============================] - 1s 2ms/step - loss: 0.1928 - accuracy: 0.9011\n",
            "Epoch 8/15\n",
            "938/938 [==============================] - 1s 1ms/step - loss: 0.1923 - accuracy: 0.9014\n",
            "Epoch 9/15\n",
            "938/938 [==============================] - 1s 1ms/step - loss: 0.1938 - accuracy: 0.9010\n",
            "Epoch 10/15\n",
            "938/938 [==============================] - 1s 1ms/step - loss: 0.1939 - accuracy: 0.9010\n",
            "Epoch 11/15\n",
            "938/938 [==============================] - 1s 1ms/step - loss: 0.1900 - accuracy: 0.9010\n",
            "Epoch 12/15\n",
            "938/938 [==============================] - 1s 1ms/step - loss: 0.1895 - accuracy: 0.9016\n",
            "Epoch 13/15\n",
            "938/938 [==============================] - 1s 1ms/step - loss: 0.1879 - accuracy: 0.9015\n",
            "Epoch 14/15\n",
            "938/938 [==============================] - 1s 1ms/step - loss: 0.1876 - accuracy: 0.9018\n",
            "Epoch 15/15\n",
            "938/938 [==============================] - 1s 1ms/step - loss: 0.1875 - accuracy: 0.9012\n"
          ]
        },
        {
          "output_type": "execute_result",
          "data": {
            "text/plain": [
              "<keras.callbacks.History at 0x7fdc201eae90>"
            ]
          },
          "metadata": {},
          "execution_count": 30
        }
      ]
    },
    {
      "cell_type": "code",
      "source": [
        "y_pred=model.predict(x_test)"
      ],
      "metadata": {
        "colab": {
          "base_uri": "https://localhost:8080/"
        },
        "id": "lADySmBLyNc_",
        "outputId": "4b5234fa-e980-4f07-b671-3d0914de99ef"
      },
      "execution_count": null,
      "outputs": [
        {
          "output_type": "stream",
          "name": "stdout",
          "text": [
            "313/313 [==============================] - 1s 2ms/step\n"
          ]
        }
      ]
    },
    {
      "cell_type": "code",
      "source": [
        "model.metrics"
      ],
      "metadata": {
        "colab": {
          "base_uri": "https://localhost:8080/"
        },
        "id": "xQCX_BFxyNfr",
        "outputId": "7386e5b4-0fdd-4085-8ed6-46a7b9a7a886"
      },
      "execution_count": null,
      "outputs": [
        {
          "output_type": "execute_result",
          "data": {
            "text/plain": [
              "[<keras.metrics.base_metric.Mean at 0x7fdc20383760>,\n",
              " <keras.metrics.base_metric.MeanMetricWrapper at 0x7fdc202e3520>]"
            ]
          },
          "metadata": {},
          "execution_count": 33
        }
      ]
    },
    {
      "cell_type": "code",
      "source": [
        "y_pred"
      ],
      "metadata": {
        "colab": {
          "base_uri": "https://localhost:8080/"
        },
        "id": "DF_fAehEyNih",
        "outputId": "06003148-4436-407e-ea5b-c7a1f23049fc"
      },
      "execution_count": null,
      "outputs": [
        {
          "output_type": "execute_result",
          "data": {
            "text/plain": [
              "array([[4.4417885e-01],\n",
              "       [9.6732284e-25],\n",
              "       [9.9746591e-01],\n",
              "       ...,\n",
              "       [4.4417885e-01],\n",
              "       [9.9999994e-01],\n",
              "       [4.4417885e-01]], dtype=float32)"
            ]
          },
          "metadata": {},
          "execution_count": 34
        }
      ]
    },
    {
      "cell_type": "code",
      "source": [
        "c=confusion_matrix(y_test,y_pred.round())"
      ],
      "metadata": {
        "id": "xNKWoat_yNlW"
      },
      "execution_count": null,
      "outputs": []
    },
    {
      "cell_type": "code",
      "source": [
        "ConfusionMatrixDisplay(confusion_matrix=c,display_labels=['True','False']).plot()"
      ],
      "metadata": {
        "colab": {
          "base_uri": "https://localhost:8080/",
          "height": 466
        },
        "id": "2WT4sQyZyNpC",
        "outputId": "9b0aaf4f-0984-4f3c-cac9-acfdd5f113a0"
      },
      "execution_count": null,
      "outputs": [
        {
          "output_type": "execute_result",
          "data": {
            "text/plain": [
              "<sklearn.metrics._plot.confusion_matrix.ConfusionMatrixDisplay at 0x7fdc1831a590>"
            ]
          },
          "metadata": {},
          "execution_count": 39
        },
        {
          "output_type": "display_data",
          "data": {
            "text/plain": [
              "<Figure size 640x480 with 2 Axes>"
            ],
            "image/png": "[encoded data removed]"
          },
          "metadata": {}
        }
      ]
    }
  ]
}